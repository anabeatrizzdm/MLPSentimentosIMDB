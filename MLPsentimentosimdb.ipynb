{
  "nbformat": 4,
  "nbformat_minor": 0,
  "metadata": {
    "colab": {
      "provenance": [],
      "collapsed_sections": [
        "fH_xvccXZ2O_",
        "j3WjT6zmelbu",
        "bqPbsaUbjPb3",
        "GqbrOzWFjqFr",
        "fBM0P1oDgA8v",
        "i7iI7Jf1fG3D",
        "i4Y457EjfJvn"
      ],
      "gpuType": "T4",
      "include_colab_link": true
    },
    "kernelspec": {
      "name": "python3",
      "display_name": "Python 3"
    },
    "language_info": {
      "name": "python"
    },
    "accelerator": "GPU",
    "widgets": {
      "application/vnd.jupyter.widget-state+json": {
        "0ac7de21efae4f1f8d0987b7b0b5bc5a": {
          "model_module": "@jupyter-widgets/controls",
          "model_name": "HBoxModel",
          "model_module_version": "1.5.0",
          "state": {
            "_dom_classes": [],
            "_model_module": "@jupyter-widgets/controls",
            "_model_module_version": "1.5.0",
            "_model_name": "HBoxModel",
            "_view_count": null,
            "_view_module": "@jupyter-widgets/controls",
            "_view_module_version": "1.5.0",
            "_view_name": "HBoxView",
            "box_style": "",
            "children": [
              "IPY_MODEL_4fe60c433e9e4b15ba61163c17c3d84f",
              "IPY_MODEL_6550dc1cd5eb4ada9c247075e228e867",
              "IPY_MODEL_5124ed186aaa49da924b543acc9f0a8d"
            ],
            "layout": "IPY_MODEL_c3120317667944648ac1613aac883568"
          }
        },
        "4fe60c433e9e4b15ba61163c17c3d84f": {
          "model_module": "@jupyter-widgets/controls",
          "model_name": "HTMLModel",
          "model_module_version": "1.5.0",
          "state": {
            "_dom_classes": [],
            "_model_module": "@jupyter-widgets/controls",
            "_model_module_version": "1.5.0",
            "_model_name": "HTMLModel",
            "_view_count": null,
            "_view_module": "@jupyter-widgets/controls",
            "_view_module_version": "1.5.0",
            "_view_name": "HTMLView",
            "description": "",
            "description_tooltip": null,
            "layout": "IPY_MODEL_f0df88a60ccd4609b22fa1b2f6f8f0ad",
            "placeholder": "​",
            "style": "IPY_MODEL_ba822859909346108fd048aed4791a9a",
            "value": "100%"
          }
        },
        "6550dc1cd5eb4ada9c247075e228e867": {
          "model_module": "@jupyter-widgets/controls",
          "model_name": "FloatProgressModel",
          "model_module_version": "1.5.0",
          "state": {
            "_dom_classes": [],
            "_model_module": "@jupyter-widgets/controls",
            "_model_module_version": "1.5.0",
            "_model_name": "FloatProgressModel",
            "_view_count": null,
            "_view_module": "@jupyter-widgets/controls",
            "_view_module_version": "1.5.0",
            "_view_name": "ProgressView",
            "bar_style": "success",
            "description": "",
            "description_tooltip": null,
            "layout": "IPY_MODEL_379f8b0c13634632a9c35ffd58493420",
            "max": 10000,
            "min": 0,
            "orientation": "horizontal",
            "style": "IPY_MODEL_ed23e83c6628443a887b0e047cdf35e9",
            "value": 10000
          }
        },
        "5124ed186aaa49da924b543acc9f0a8d": {
          "model_module": "@jupyter-widgets/controls",
          "model_name": "HTMLModel",
          "model_module_version": "1.5.0",
          "state": {
            "_dom_classes": [],
            "_model_module": "@jupyter-widgets/controls",
            "_model_module_version": "1.5.0",
            "_model_name": "HTMLModel",
            "_view_count": null,
            "_view_module": "@jupyter-widgets/controls",
            "_view_module_version": "1.5.0",
            "_view_name": "HTMLView",
            "description": "",
            "description_tooltip": null,
            "layout": "IPY_MODEL_5515577656d54f5da07603b617dfe0bb",
            "placeholder": "​",
            "style": "IPY_MODEL_48634344762641b6ba892c16bd5141ea",
            "value": " 10000/10000 [00:33&lt;00:00, 292.10it/s]"
          }
        },
        "c3120317667944648ac1613aac883568": {
          "model_module": "@jupyter-widgets/base",
          "model_name": "LayoutModel",
          "model_module_version": "1.2.0",
          "state": {
            "_model_module": "@jupyter-widgets/base",
            "_model_module_version": "1.2.0",
            "_model_name": "LayoutModel",
            "_view_count": null,
            "_view_module": "@jupyter-widgets/base",
            "_view_module_version": "1.2.0",
            "_view_name": "LayoutView",
            "align_content": null,
            "align_items": null,
            "align_self": null,
            "border": null,
            "bottom": null,
            "display": null,
            "flex": null,
            "flex_flow": null,
            "grid_area": null,
            "grid_auto_columns": null,
            "grid_auto_flow": null,
            "grid_auto_rows": null,
            "grid_column": null,
            "grid_gap": null,
            "grid_row": null,
            "grid_template_areas": null,
            "grid_template_columns": null,
            "grid_template_rows": null,
            "height": null,
            "justify_content": null,
            "justify_items": null,
            "left": null,
            "margin": null,
            "max_height": null,
            "max_width": null,
            "min_height": null,
            "min_width": null,
            "object_fit": null,
            "object_position": null,
            "order": null,
            "overflow": null,
            "overflow_x": null,
            "overflow_y": null,
            "padding": null,
            "right": null,
            "top": null,
            "visibility": null,
            "width": null
          }
        },
        "f0df88a60ccd4609b22fa1b2f6f8f0ad": {
          "model_module": "@jupyter-widgets/base",
          "model_name": "LayoutModel",
          "model_module_version": "1.2.0",
          "state": {
            "_model_module": "@jupyter-widgets/base",
            "_model_module_version": "1.2.0",
            "_model_name": "LayoutModel",
            "_view_count": null,
            "_view_module": "@jupyter-widgets/base",
            "_view_module_version": "1.2.0",
            "_view_name": "LayoutView",
            "align_content": null,
            "align_items": null,
            "align_self": null,
            "border": null,
            "bottom": null,
            "display": null,
            "flex": null,
            "flex_flow": null,
            "grid_area": null,
            "grid_auto_columns": null,
            "grid_auto_flow": null,
            "grid_auto_rows": null,
            "grid_column": null,
            "grid_gap": null,
            "grid_row": null,
            "grid_template_areas": null,
            "grid_template_columns": null,
            "grid_template_rows": null,
            "height": null,
            "justify_content": null,
            "justify_items": null,
            "left": null,
            "margin": null,
            "max_height": null,
            "max_width": null,
            "min_height": null,
            "min_width": null,
            "object_fit": null,
            "object_position": null,
            "order": null,
            "overflow": null,
            "overflow_x": null,
            "overflow_y": null,
            "padding": null,
            "right": null,
            "top": null,
            "visibility": null,
            "width": null
          }
        },
        "ba822859909346108fd048aed4791a9a": {
          "model_module": "@jupyter-widgets/controls",
          "model_name": "DescriptionStyleModel",
          "model_module_version": "1.5.0",
          "state": {
            "_model_module": "@jupyter-widgets/controls",
            "_model_module_version": "1.5.0",
            "_model_name": "DescriptionStyleModel",
            "_view_count": null,
            "_view_module": "@jupyter-widgets/base",
            "_view_module_version": "1.2.0",
            "_view_name": "StyleView",
            "description_width": ""
          }
        },
        "379f8b0c13634632a9c35ffd58493420": {
          "model_module": "@jupyter-widgets/base",
          "model_name": "LayoutModel",
          "model_module_version": "1.2.0",
          "state": {
            "_model_module": "@jupyter-widgets/base",
            "_model_module_version": "1.2.0",
            "_model_name": "LayoutModel",
            "_view_count": null,
            "_view_module": "@jupyter-widgets/base",
            "_view_module_version": "1.2.0",
            "_view_name": "LayoutView",
            "align_content": null,
            "align_items": null,
            "align_self": null,
            "border": null,
            "bottom": null,
            "display": null,
            "flex": null,
            "flex_flow": null,
            "grid_area": null,
            "grid_auto_columns": null,
            "grid_auto_flow": null,
            "grid_auto_rows": null,
            "grid_column": null,
            "grid_gap": null,
            "grid_row": null,
            "grid_template_areas": null,
            "grid_template_columns": null,
            "grid_template_rows": null,
            "height": null,
            "justify_content": null,
            "justify_items": null,
            "left": null,
            "margin": null,
            "max_height": null,
            "max_width": null,
            "min_height": null,
            "min_width": null,
            "object_fit": null,
            "object_position": null,
            "order": null,
            "overflow": null,
            "overflow_x": null,
            "overflow_y": null,
            "padding": null,
            "right": null,
            "top": null,
            "visibility": null,
            "width": null
          }
        },
        "ed23e83c6628443a887b0e047cdf35e9": {
          "model_module": "@jupyter-widgets/controls",
          "model_name": "ProgressStyleModel",
          "model_module_version": "1.5.0",
          "state": {
            "_model_module": "@jupyter-widgets/controls",
            "_model_module_version": "1.5.0",
            "_model_name": "ProgressStyleModel",
            "_view_count": null,
            "_view_module": "@jupyter-widgets/base",
            "_view_module_version": "1.2.0",
            "_view_name": "StyleView",
            "bar_color": null,
            "description_width": ""
          }
        },
        "5515577656d54f5da07603b617dfe0bb": {
          "model_module": "@jupyter-widgets/base",
          "model_name": "LayoutModel",
          "model_module_version": "1.2.0",
          "state": {
            "_model_module": "@jupyter-widgets/base",
            "_model_module_version": "1.2.0",
            "_model_name": "LayoutModel",
            "_view_count": null,
            "_view_module": "@jupyter-widgets/base",
            "_view_module_version": "1.2.0",
            "_view_name": "LayoutView",
            "align_content": null,
            "align_items": null,
            "align_self": null,
            "border": null,
            "bottom": null,
            "display": null,
            "flex": null,
            "flex_flow": null,
            "grid_area": null,
            "grid_auto_columns": null,
            "grid_auto_flow": null,
            "grid_auto_rows": null,
            "grid_column": null,
            "grid_gap": null,
            "grid_row": null,
            "grid_template_areas": null,
            "grid_template_columns": null,
            "grid_template_rows": null,
            "height": null,
            "justify_content": null,
            "justify_items": null,
            "left": null,
            "margin": null,
            "max_height": null,
            "max_width": null,
            "min_height": null,
            "min_width": null,
            "object_fit": null,
            "object_position": null,
            "order": null,
            "overflow": null,
            "overflow_x": null,
            "overflow_y": null,
            "padding": null,
            "right": null,
            "top": null,
            "visibility": null,
            "width": null
          }
        },
        "48634344762641b6ba892c16bd5141ea": {
          "model_module": "@jupyter-widgets/controls",
          "model_name": "DescriptionStyleModel",
          "model_module_version": "1.5.0",
          "state": {
            "_model_module": "@jupyter-widgets/controls",
            "_model_module_version": "1.5.0",
            "_model_name": "DescriptionStyleModel",
            "_view_count": null,
            "_view_module": "@jupyter-widgets/base",
            "_view_module_version": "1.2.0",
            "_view_name": "StyleView",
            "description_width": ""
          }
        },
        "980926819e2b4fc4b32e2a967ca69a37": {
          "model_module": "@jupyter-widgets/controls",
          "model_name": "HBoxModel",
          "model_module_version": "1.5.0",
          "state": {
            "_dom_classes": [],
            "_model_module": "@jupyter-widgets/controls",
            "_model_module_version": "1.5.0",
            "_model_name": "HBoxModel",
            "_view_count": null,
            "_view_module": "@jupyter-widgets/controls",
            "_view_module_version": "1.5.0",
            "_view_name": "HBoxView",
            "box_style": "",
            "children": [
              "IPY_MODEL_aeec820790214459be87854cc4e13284",
              "IPY_MODEL_8f00b20638ea4fb581f714ee81971dd6",
              "IPY_MODEL_27ccd7f5fbb043de8ca60e0c4b418fe9"
            ],
            "layout": "IPY_MODEL_ca2ccfcf736545a5b5b961e8fa2eaf5a"
          }
        },
        "aeec820790214459be87854cc4e13284": {
          "model_module": "@jupyter-widgets/controls",
          "model_name": "HTMLModel",
          "model_module_version": "1.5.0",
          "state": {
            "_dom_classes": [],
            "_model_module": "@jupyter-widgets/controls",
            "_model_module_version": "1.5.0",
            "_model_name": "HTMLModel",
            "_view_count": null,
            "_view_module": "@jupyter-widgets/controls",
            "_view_module_version": "1.5.0",
            "_view_name": "HTMLView",
            "description": "",
            "description_tooltip": null,
            "layout": "IPY_MODEL_3719c1aab5d54b29b6a019cfc03ebfbc",
            "placeholder": "​",
            "style": "IPY_MODEL_c080cf1fea344c0fbd4aea6a5c2a398b",
            "value": "100%"
          }
        },
        "8f00b20638ea4fb581f714ee81971dd6": {
          "model_module": "@jupyter-widgets/controls",
          "model_name": "FloatProgressModel",
          "model_module_version": "1.5.0",
          "state": {
            "_dom_classes": [],
            "_model_module": "@jupyter-widgets/controls",
            "_model_module_version": "1.5.0",
            "_model_name": "FloatProgressModel",
            "_view_count": null,
            "_view_module": "@jupyter-widgets/controls",
            "_view_module_version": "1.5.0",
            "_view_name": "ProgressView",
            "bar_style": "success",
            "description": "",
            "description_tooltip": null,
            "layout": "IPY_MODEL_e6a017a212d5446ea91e834dfef31ec1",
            "max": 49459,
            "min": 0,
            "orientation": "horizontal",
            "style": "IPY_MODEL_89ba0a7f84214d629cd26de4f9607467",
            "value": 49459
          }
        },
        "27ccd7f5fbb043de8ca60e0c4b418fe9": {
          "model_module": "@jupyter-widgets/controls",
          "model_name": "HTMLModel",
          "model_module_version": "1.5.0",
          "state": {
            "_dom_classes": [],
            "_model_module": "@jupyter-widgets/controls",
            "_model_module_version": "1.5.0",
            "_model_name": "HTMLModel",
            "_view_count": null,
            "_view_module": "@jupyter-widgets/controls",
            "_view_module_version": "1.5.0",
            "_view_name": "HTMLView",
            "description": "",
            "description_tooltip": null,
            "layout": "IPY_MODEL_86cdad314ee84b09be187f5a4c57e763",
            "placeholder": "​",
            "style": "IPY_MODEL_9fb2ed6bb9b549fa815ce58209c703de",
            "value": " 49459/49459 [05:40&lt;00:00, 192.25it/s]"
          }
        },
        "ca2ccfcf736545a5b5b961e8fa2eaf5a": {
          "model_module": "@jupyter-widgets/base",
          "model_name": "LayoutModel",
          "model_module_version": "1.2.0",
          "state": {
            "_model_module": "@jupyter-widgets/base",
            "_model_module_version": "1.2.0",
            "_model_name": "LayoutModel",
            "_view_count": null,
            "_view_module": "@jupyter-widgets/base",
            "_view_module_version": "1.2.0",
            "_view_name": "LayoutView",
            "align_content": null,
            "align_items": null,
            "align_self": null,
            "border": null,
            "bottom": null,
            "display": null,
            "flex": null,
            "flex_flow": null,
            "grid_area": null,
            "grid_auto_columns": null,
            "grid_auto_flow": null,
            "grid_auto_rows": null,
            "grid_column": null,
            "grid_gap": null,
            "grid_row": null,
            "grid_template_areas": null,
            "grid_template_columns": null,
            "grid_template_rows": null,
            "height": null,
            "justify_content": null,
            "justify_items": null,
            "left": null,
            "margin": null,
            "max_height": null,
            "max_width": null,
            "min_height": null,
            "min_width": null,
            "object_fit": null,
            "object_position": null,
            "order": null,
            "overflow": null,
            "overflow_x": null,
            "overflow_y": null,
            "padding": null,
            "right": null,
            "top": null,
            "visibility": null,
            "width": null
          }
        },
        "3719c1aab5d54b29b6a019cfc03ebfbc": {
          "model_module": "@jupyter-widgets/base",
          "model_name": "LayoutModel",
          "model_module_version": "1.2.0",
          "state": {
            "_model_module": "@jupyter-widgets/base",
            "_model_module_version": "1.2.0",
            "_model_name": "LayoutModel",
            "_view_count": null,
            "_view_module": "@jupyter-widgets/base",
            "_view_module_version": "1.2.0",
            "_view_name": "LayoutView",
            "align_content": null,
            "align_items": null,
            "align_self": null,
            "border": null,
            "bottom": null,
            "display": null,
            "flex": null,
            "flex_flow": null,
            "grid_area": null,
            "grid_auto_columns": null,
            "grid_auto_flow": null,
            "grid_auto_rows": null,
            "grid_column": null,
            "grid_gap": null,
            "grid_row": null,
            "grid_template_areas": null,
            "grid_template_columns": null,
            "grid_template_rows": null,
            "height": null,
            "justify_content": null,
            "justify_items": null,
            "left": null,
            "margin": null,
            "max_height": null,
            "max_width": null,
            "min_height": null,
            "min_width": null,
            "object_fit": null,
            "object_position": null,
            "order": null,
            "overflow": null,
            "overflow_x": null,
            "overflow_y": null,
            "padding": null,
            "right": null,
            "top": null,
            "visibility": null,
            "width": null
          }
        },
        "c080cf1fea344c0fbd4aea6a5c2a398b": {
          "model_module": "@jupyter-widgets/controls",
          "model_name": "DescriptionStyleModel",
          "model_module_version": "1.5.0",
          "state": {
            "_model_module": "@jupyter-widgets/controls",
            "_model_module_version": "1.5.0",
            "_model_name": "DescriptionStyleModel",
            "_view_count": null,
            "_view_module": "@jupyter-widgets/base",
            "_view_module_version": "1.2.0",
            "_view_name": "StyleView",
            "description_width": ""
          }
        },
        "e6a017a212d5446ea91e834dfef31ec1": {
          "model_module": "@jupyter-widgets/base",
          "model_name": "LayoutModel",
          "model_module_version": "1.2.0",
          "state": {
            "_model_module": "@jupyter-widgets/base",
            "_model_module_version": "1.2.0",
            "_model_name": "LayoutModel",
            "_view_count": null,
            "_view_module": "@jupyter-widgets/base",
            "_view_module_version": "1.2.0",
            "_view_name": "LayoutView",
            "align_content": null,
            "align_items": null,
            "align_self": null,
            "border": null,
            "bottom": null,
            "display": null,
            "flex": null,
            "flex_flow": null,
            "grid_area": null,
            "grid_auto_columns": null,
            "grid_auto_flow": null,
            "grid_auto_rows": null,
            "grid_column": null,
            "grid_gap": null,
            "grid_row": null,
            "grid_template_areas": null,
            "grid_template_columns": null,
            "grid_template_rows": null,
            "height": null,
            "justify_content": null,
            "justify_items": null,
            "left": null,
            "margin": null,
            "max_height": null,
            "max_width": null,
            "min_height": null,
            "min_width": null,
            "object_fit": null,
            "object_position": null,
            "order": null,
            "overflow": null,
            "overflow_x": null,
            "overflow_y": null,
            "padding": null,
            "right": null,
            "top": null,
            "visibility": null,
            "width": null
          }
        },
        "89ba0a7f84214d629cd26de4f9607467": {
          "model_module": "@jupyter-widgets/controls",
          "model_name": "ProgressStyleModel",
          "model_module_version": "1.5.0",
          "state": {
            "_model_module": "@jupyter-widgets/controls",
            "_model_module_version": "1.5.0",
            "_model_name": "ProgressStyleModel",
            "_view_count": null,
            "_view_module": "@jupyter-widgets/base",
            "_view_module_version": "1.2.0",
            "_view_name": "StyleView",
            "bar_color": null,
            "description_width": ""
          }
        },
        "86cdad314ee84b09be187f5a4c57e763": {
          "model_module": "@jupyter-widgets/base",
          "model_name": "LayoutModel",
          "model_module_version": "1.2.0",
          "state": {
            "_model_module": "@jupyter-widgets/base",
            "_model_module_version": "1.2.0",
            "_model_name": "LayoutModel",
            "_view_count": null,
            "_view_module": "@jupyter-widgets/base",
            "_view_module_version": "1.2.0",
            "_view_name": "LayoutView",
            "align_content": null,
            "align_items": null,
            "align_self": null,
            "border": null,
            "bottom": null,
            "display": null,
            "flex": null,
            "flex_flow": null,
            "grid_area": null,
            "grid_auto_columns": null,
            "grid_auto_flow": null,
            "grid_auto_rows": null,
            "grid_column": null,
            "grid_gap": null,
            "grid_row": null,
            "grid_template_areas": null,
            "grid_template_columns": null,
            "grid_template_rows": null,
            "height": null,
            "justify_content": null,
            "justify_items": null,
            "left": null,
            "margin": null,
            "max_height": null,
            "max_width": null,
            "min_height": null,
            "min_width": null,
            "object_fit": null,
            "object_position": null,
            "order": null,
            "overflow": null,
            "overflow_x": null,
            "overflow_y": null,
            "padding": null,
            "right": null,
            "top": null,
            "visibility": null,
            "width": null
          }
        },
        "9fb2ed6bb9b549fa815ce58209c703de": {
          "model_module": "@jupyter-widgets/controls",
          "model_name": "DescriptionStyleModel",
          "model_module_version": "1.5.0",
          "state": {
            "_model_module": "@jupyter-widgets/controls",
            "_model_module_version": "1.5.0",
            "_model_name": "DescriptionStyleModel",
            "_view_count": null,
            "_view_module": "@jupyter-widgets/base",
            "_view_module_version": "1.2.0",
            "_view_name": "StyleView",
            "description_width": ""
          }
        },
        "882033718cb24756b19a8a435e89695d": {
          "model_module": "@jupyter-widgets/controls",
          "model_name": "HBoxModel",
          "model_module_version": "1.5.0",
          "state": {
            "_dom_classes": [],
            "_model_module": "@jupyter-widgets/controls",
            "_model_module_version": "1.5.0",
            "_model_name": "HBoxModel",
            "_view_count": null,
            "_view_module": "@jupyter-widgets/controls",
            "_view_module_version": "1.5.0",
            "_view_name": "HBoxView",
            "box_style": "",
            "children": [
              "IPY_MODEL_d08acc2027744f27a5adf13ba1a3f917",
              "IPY_MODEL_323d56fec9e9498c9dae0a268618b25d",
              "IPY_MODEL_5de429412f1a407381e4e3ec5a55ed60"
            ],
            "layout": "IPY_MODEL_3f4962edd1d9485fbffd968384a25e55"
          }
        },
        "d08acc2027744f27a5adf13ba1a3f917": {
          "model_module": "@jupyter-widgets/controls",
          "model_name": "HTMLModel",
          "model_module_version": "1.5.0",
          "state": {
            "_dom_classes": [],
            "_model_module": "@jupyter-widgets/controls",
            "_model_module_version": "1.5.0",
            "_model_name": "HTMLModel",
            "_view_count": null,
            "_view_module": "@jupyter-widgets/controls",
            "_view_module_version": "1.5.0",
            "_view_name": "HTMLView",
            "description": "",
            "description_tooltip": null,
            "layout": "IPY_MODEL_5a58854eac414d869321ff74ed13bebb",
            "placeholder": "​",
            "style": "IPY_MODEL_8cbb67347d8f48f6864b7dffe4259384",
            "value": "100%"
          }
        },
        "323d56fec9e9498c9dae0a268618b25d": {
          "model_module": "@jupyter-widgets/controls",
          "model_name": "FloatProgressModel",
          "model_module_version": "1.5.0",
          "state": {
            "_dom_classes": [],
            "_model_module": "@jupyter-widgets/controls",
            "_model_module_version": "1.5.0",
            "_model_name": "FloatProgressModel",
            "_view_count": null,
            "_view_module": "@jupyter-widgets/controls",
            "_view_module_version": "1.5.0",
            "_view_name": "ProgressView",
            "bar_style": "success",
            "description": "",
            "description_tooltip": null,
            "layout": "IPY_MODEL_3453bf15a89e47a882ff4bab54e12d68",
            "max": 750,
            "min": 0,
            "orientation": "horizontal",
            "style": "IPY_MODEL_bdc7d3f079a7405c94ec7434c43d95cc",
            "value": 750
          }
        },
        "5de429412f1a407381e4e3ec5a55ed60": {
          "model_module": "@jupyter-widgets/controls",
          "model_name": "HTMLModel",
          "model_module_version": "1.5.0",
          "state": {
            "_dom_classes": [],
            "_model_module": "@jupyter-widgets/controls",
            "_model_module_version": "1.5.0",
            "_model_name": "HTMLModel",
            "_view_count": null,
            "_view_module": "@jupyter-widgets/controls",
            "_view_module_version": "1.5.0",
            "_view_name": "HTMLView",
            "description": "",
            "description_tooltip": null,
            "layout": "IPY_MODEL_8ef19187411a490798642a119ce71534",
            "placeholder": "​",
            "style": "IPY_MODEL_a0e6cbd3bc8348e3a26398fe3fab2204",
            "value": " 750/750 [00:16&lt;00:00, 42.18it/s]"
          }
        },
        "3f4962edd1d9485fbffd968384a25e55": {
          "model_module": "@jupyter-widgets/base",
          "model_name": "LayoutModel",
          "model_module_version": "1.2.0",
          "state": {
            "_model_module": "@jupyter-widgets/base",
            "_model_module_version": "1.2.0",
            "_model_name": "LayoutModel",
            "_view_count": null,
            "_view_module": "@jupyter-widgets/base",
            "_view_module_version": "1.2.0",
            "_view_name": "LayoutView",
            "align_content": null,
            "align_items": null,
            "align_self": null,
            "border": null,
            "bottom": null,
            "display": null,
            "flex": null,
            "flex_flow": null,
            "grid_area": null,
            "grid_auto_columns": null,
            "grid_auto_flow": null,
            "grid_auto_rows": null,
            "grid_column": null,
            "grid_gap": null,
            "grid_row": null,
            "grid_template_areas": null,
            "grid_template_columns": null,
            "grid_template_rows": null,
            "height": null,
            "justify_content": null,
            "justify_items": null,
            "left": null,
            "margin": null,
            "max_height": null,
            "max_width": null,
            "min_height": null,
            "min_width": null,
            "object_fit": null,
            "object_position": null,
            "order": null,
            "overflow": null,
            "overflow_x": null,
            "overflow_y": null,
            "padding": null,
            "right": null,
            "top": null,
            "visibility": null,
            "width": null
          }
        },
        "5a58854eac414d869321ff74ed13bebb": {
          "model_module": "@jupyter-widgets/base",
          "model_name": "LayoutModel",
          "model_module_version": "1.2.0",
          "state": {
            "_model_module": "@jupyter-widgets/base",
            "_model_module_version": "1.2.0",
            "_model_name": "LayoutModel",
            "_view_count": null,
            "_view_module": "@jupyter-widgets/base",
            "_view_module_version": "1.2.0",
            "_view_name": "LayoutView",
            "align_content": null,
            "align_items": null,
            "align_self": null,
            "border": null,
            "bottom": null,
            "display": null,
            "flex": null,
            "flex_flow": null,
            "grid_area": null,
            "grid_auto_columns": null,
            "grid_auto_flow": null,
            "grid_auto_rows": null,
            "grid_column": null,
            "grid_gap": null,
            "grid_row": null,
            "grid_template_areas": null,
            "grid_template_columns": null,
            "grid_template_rows": null,
            "height": null,
            "justify_content": null,
            "justify_items": null,
            "left": null,
            "margin": null,
            "max_height": null,
            "max_width": null,
            "min_height": null,
            "min_width": null,
            "object_fit": null,
            "object_position": null,
            "order": null,
            "overflow": null,
            "overflow_x": null,
            "overflow_y": null,
            "padding": null,
            "right": null,
            "top": null,
            "visibility": null,
            "width": null
          }
        },
        "8cbb67347d8f48f6864b7dffe4259384": {
          "model_module": "@jupyter-widgets/controls",
          "model_name": "DescriptionStyleModel",
          "model_module_version": "1.5.0",
          "state": {
            "_model_module": "@jupyter-widgets/controls",
            "_model_module_version": "1.5.0",
            "_model_name": "DescriptionStyleModel",
            "_view_count": null,
            "_view_module": "@jupyter-widgets/base",
            "_view_module_version": "1.2.0",
            "_view_name": "StyleView",
            "description_width": ""
          }
        },
        "3453bf15a89e47a882ff4bab54e12d68": {
          "model_module": "@jupyter-widgets/base",
          "model_name": "LayoutModel",
          "model_module_version": "1.2.0",
          "state": {
            "_model_module": "@jupyter-widgets/base",
            "_model_module_version": "1.2.0",
            "_model_name": "LayoutModel",
            "_view_count": null,
            "_view_module": "@jupyter-widgets/base",
            "_view_module_version": "1.2.0",
            "_view_name": "LayoutView",
            "align_content": null,
            "align_items": null,
            "align_self": null,
            "border": null,
            "bottom": null,
            "display": null,
            "flex": null,
            "flex_flow": null,
            "grid_area": null,
            "grid_auto_columns": null,
            "grid_auto_flow": null,
            "grid_auto_rows": null,
            "grid_column": null,
            "grid_gap": null,
            "grid_row": null,
            "grid_template_areas": null,
            "grid_template_columns": null,
            "grid_template_rows": null,
            "height": null,
            "justify_content": null,
            "justify_items": null,
            "left": null,
            "margin": null,
            "max_height": null,
            "max_width": null,
            "min_height": null,
            "min_width": null,
            "object_fit": null,
            "object_position": null,
            "order": null,
            "overflow": null,
            "overflow_x": null,
            "overflow_y": null,
            "padding": null,
            "right": null,
            "top": null,
            "visibility": null,
            "width": null
          }
        },
        "bdc7d3f079a7405c94ec7434c43d95cc": {
          "model_module": "@jupyter-widgets/controls",
          "model_name": "ProgressStyleModel",
          "model_module_version": "1.5.0",
          "state": {
            "_model_module": "@jupyter-widgets/controls",
            "_model_module_version": "1.5.0",
            "_model_name": "ProgressStyleModel",
            "_view_count": null,
            "_view_module": "@jupyter-widgets/base",
            "_view_module_version": "1.2.0",
            "_view_name": "StyleView",
            "bar_color": null,
            "description_width": ""
          }
        },
        "8ef19187411a490798642a119ce71534": {
          "model_module": "@jupyter-widgets/base",
          "model_name": "LayoutModel",
          "model_module_version": "1.2.0",
          "state": {
            "_model_module": "@jupyter-widgets/base",
            "_model_module_version": "1.2.0",
            "_model_name": "LayoutModel",
            "_view_count": null,
            "_view_module": "@jupyter-widgets/base",
            "_view_module_version": "1.2.0",
            "_view_name": "LayoutView",
            "align_content": null,
            "align_items": null,
            "align_self": null,
            "border": null,
            "bottom": null,
            "display": null,
            "flex": null,
            "flex_flow": null,
            "grid_area": null,
            "grid_auto_columns": null,
            "grid_auto_flow": null,
            "grid_auto_rows": null,
            "grid_column": null,
            "grid_gap": null,
            "grid_row": null,
            "grid_template_areas": null,
            "grid_template_columns": null,
            "grid_template_rows": null,
            "height": null,
            "justify_content": null,
            "justify_items": null,
            "left": null,
            "margin": null,
            "max_height": null,
            "max_width": null,
            "min_height": null,
            "min_width": null,
            "object_fit": null,
            "object_position": null,
            "order": null,
            "overflow": null,
            "overflow_x": null,
            "overflow_y": null,
            "padding": null,
            "right": null,
            "top": null,
            "visibility": null,
            "width": null
          }
        },
        "a0e6cbd3bc8348e3a26398fe3fab2204": {
          "model_module": "@jupyter-widgets/controls",
          "model_name": "DescriptionStyleModel",
          "model_module_version": "1.5.0",
          "state": {
            "_model_module": "@jupyter-widgets/controls",
            "_model_module_version": "1.5.0",
            "_model_name": "DescriptionStyleModel",
            "_view_count": null,
            "_view_module": "@jupyter-widgets/base",
            "_view_module_version": "1.2.0",
            "_view_name": "StyleView",
            "description_width": ""
          }
        },
        "228ee0f49fdd47dfa196f16af00a77e4": {
          "model_module": "@jupyter-widgets/controls",
          "model_name": "FloatProgressModel",
          "model_module_version": "1.5.0",
          "state": {
            "_dom_classes": [],
            "_model_module": "@jupyter-widgets/controls",
            "_model_module_version": "1.5.0",
            "_model_name": "FloatProgressModel",
            "_view_count": null,
            "_view_module": "@jupyter-widgets/controls",
            "_view_module_version": "1.5.0",
            "_view_name": "ProgressView",
            "bar_style": "info",
            "description": "Nível de positividade detectado:",
            "description_tooltip": null,
            "layout": "IPY_MODEL_fefcb7451b8543f4bbc5900d15858baf",
            "max": 1,
            "min": 0,
            "orientation": "horizontal",
            "style": "IPY_MODEL_1d940bbab29241969a6f152c9f8f3837",
            "value": 1
          }
        },
        "fefcb7451b8543f4bbc5900d15858baf": {
          "model_module": "@jupyter-widgets/base",
          "model_name": "LayoutModel",
          "model_module_version": "1.2.0",
          "state": {
            "_model_module": "@jupyter-widgets/base",
            "_model_module_version": "1.2.0",
            "_model_name": "LayoutModel",
            "_view_count": null,
            "_view_module": "@jupyter-widgets/base",
            "_view_module_version": "1.2.0",
            "_view_name": "LayoutView",
            "align_content": null,
            "align_items": null,
            "align_self": null,
            "border": null,
            "bottom": null,
            "display": null,
            "flex": null,
            "flex_flow": null,
            "grid_area": null,
            "grid_auto_columns": null,
            "grid_auto_flow": null,
            "grid_auto_rows": null,
            "grid_column": null,
            "grid_gap": null,
            "grid_row": null,
            "grid_template_areas": null,
            "grid_template_columns": null,
            "grid_template_rows": null,
            "height": null,
            "justify_content": null,
            "justify_items": null,
            "left": null,
            "margin": null,
            "max_height": null,
            "max_width": null,
            "min_height": null,
            "min_width": null,
            "object_fit": null,
            "object_position": null,
            "order": null,
            "overflow": null,
            "overflow_x": null,
            "overflow_y": null,
            "padding": null,
            "right": null,
            "top": null,
            "visibility": null,
            "width": null
          }
        },
        "1d940bbab29241969a6f152c9f8f3837": {
          "model_module": "@jupyter-widgets/controls",
          "model_name": "ProgressStyleModel",
          "model_module_version": "1.5.0",
          "state": {
            "_model_module": "@jupyter-widgets/controls",
            "_model_module_version": "1.5.0",
            "_model_name": "ProgressStyleModel",
            "_view_count": null,
            "_view_module": "@jupyter-widgets/base",
            "_view_module_version": "1.2.0",
            "_view_name": "StyleView",
            "bar_color": "#00ff00",
            "description_width": "initial"
          }
        },
        "9c06673553a04723881a34978091eb94": {
          "model_module": "@jupyter-widgets/controls",
          "model_name": "FloatProgressModel",
          "model_module_version": "1.5.0",
          "state": {
            "_dom_classes": [],
            "_model_module": "@jupyter-widgets/controls",
            "_model_module_version": "1.5.0",
            "_model_name": "FloatProgressModel",
            "_view_count": null,
            "_view_module": "@jupyter-widgets/controls",
            "_view_module_version": "1.5.0",
            "_view_name": "ProgressView",
            "bar_style": "info",
            "description": "Nível de positividade detectado:",
            "description_tooltip": null,
            "layout": "IPY_MODEL_d9f83cf997f441898c10f87b0757d1c0",
            "max": 1,
            "min": 0,
            "orientation": "horizontal",
            "style": "IPY_MODEL_b5453117322d4fccb44ea28f5cb030b0",
            "value": 0.00004429508771863766
          }
        },
        "d9f83cf997f441898c10f87b0757d1c0": {
          "model_module": "@jupyter-widgets/base",
          "model_name": "LayoutModel",
          "model_module_version": "1.2.0",
          "state": {
            "_model_module": "@jupyter-widgets/base",
            "_model_module_version": "1.2.0",
            "_model_name": "LayoutModel",
            "_view_count": null,
            "_view_module": "@jupyter-widgets/base",
            "_view_module_version": "1.2.0",
            "_view_name": "LayoutView",
            "align_content": null,
            "align_items": null,
            "align_self": null,
            "border": null,
            "bottom": null,
            "display": null,
            "flex": null,
            "flex_flow": null,
            "grid_area": null,
            "grid_auto_columns": null,
            "grid_auto_flow": null,
            "grid_auto_rows": null,
            "grid_column": null,
            "grid_gap": null,
            "grid_row": null,
            "grid_template_areas": null,
            "grid_template_columns": null,
            "grid_template_rows": null,
            "height": null,
            "justify_content": null,
            "justify_items": null,
            "left": null,
            "margin": null,
            "max_height": null,
            "max_width": null,
            "min_height": null,
            "min_width": null,
            "object_fit": null,
            "object_position": null,
            "order": null,
            "overflow": null,
            "overflow_x": null,
            "overflow_y": null,
            "padding": null,
            "right": null,
            "top": null,
            "visibility": null,
            "width": null
          }
        },
        "b5453117322d4fccb44ea28f5cb030b0": {
          "model_module": "@jupyter-widgets/controls",
          "model_name": "ProgressStyleModel",
          "model_module_version": "1.5.0",
          "state": {
            "_model_module": "@jupyter-widgets/controls",
            "_model_module_version": "1.5.0",
            "_model_name": "ProgressStyleModel",
            "_view_count": null,
            "_view_module": "@jupyter-widgets/base",
            "_view_module_version": "1.2.0",
            "_view_name": "StyleView",
            "bar_color": "#ff0000",
            "description_width": "initial"
          }
        },
        "23aeb555625545f191a20e74058b89ef": {
          "model_module": "@jupyter-widgets/controls",
          "model_name": "FloatProgressModel",
          "model_module_version": "1.5.0",
          "state": {
            "_dom_classes": [],
            "_model_module": "@jupyter-widgets/controls",
            "_model_module_version": "1.5.0",
            "_model_name": "FloatProgressModel",
            "_view_count": null,
            "_view_module": "@jupyter-widgets/controls",
            "_view_module_version": "1.5.0",
            "_view_name": "ProgressView",
            "bar_style": "info",
            "description": "Nível de positividade detectado:",
            "description_tooltip": null,
            "layout": "IPY_MODEL_45c57e29fdec425faf21253a64585cb4",
            "max": 1,
            "min": 0,
            "orientation": "horizontal",
            "style": "IPY_MODEL_34c4aaa31b094233a6255908d9df2f82",
            "value": 0.001364203286357224
          }
        },
        "45c57e29fdec425faf21253a64585cb4": {
          "model_module": "@jupyter-widgets/base",
          "model_name": "LayoutModel",
          "model_module_version": "1.2.0",
          "state": {
            "_model_module": "@jupyter-widgets/base",
            "_model_module_version": "1.2.0",
            "_model_name": "LayoutModel",
            "_view_count": null,
            "_view_module": "@jupyter-widgets/base",
            "_view_module_version": "1.2.0",
            "_view_name": "LayoutView",
            "align_content": null,
            "align_items": null,
            "align_self": null,
            "border": null,
            "bottom": null,
            "display": null,
            "flex": null,
            "flex_flow": null,
            "grid_area": null,
            "grid_auto_columns": null,
            "grid_auto_flow": null,
            "grid_auto_rows": null,
            "grid_column": null,
            "grid_gap": null,
            "grid_row": null,
            "grid_template_areas": null,
            "grid_template_columns": null,
            "grid_template_rows": null,
            "height": null,
            "justify_content": null,
            "justify_items": null,
            "left": null,
            "margin": null,
            "max_height": null,
            "max_width": null,
            "min_height": null,
            "min_width": null,
            "object_fit": null,
            "object_position": null,
            "order": null,
            "overflow": null,
            "overflow_x": null,
            "overflow_y": null,
            "padding": null,
            "right": null,
            "top": null,
            "visibility": null,
            "width": null
          }
        },
        "34c4aaa31b094233a6255908d9df2f82": {
          "model_module": "@jupyter-widgets/controls",
          "model_name": "ProgressStyleModel",
          "model_module_version": "1.5.0",
          "state": {
            "_model_module": "@jupyter-widgets/controls",
            "_model_module_version": "1.5.0",
            "_model_name": "ProgressStyleModel",
            "_view_count": null,
            "_view_module": "@jupyter-widgets/base",
            "_view_module_version": "1.2.0",
            "_view_name": "StyleView",
            "bar_color": "#ff0000",
            "description_width": "initial"
          }
        }
      }
    }
  },
  "cells": [
    {
      "cell_type": "markdown",
      "metadata": {
        "id": "view-in-github",
        "colab_type": "text"
      },
      "source": [
        "<a href=\"https://colab.research.google.com/github/anabeatrizzdm/MLPSentimentosIMDB/blob/main/MLPsentimentosimdb.ipynb\" target=\"_parent\"><img src=\"https://colab.research.google.com/assets/colab-badge.svg\" alt=\"Open In Colab\"/></a>"
      ]
    },
    {
      "cell_type": "markdown",
      "source": [
        "Ana Beatriz Dias Mendes\n",
        "RA: 22353494"
      ],
      "metadata": {
        "id": "q49ZPI3papWD"
      }
    },
    {
      "cell_type": "markdown",
      "source": [
        "## Imports, instalação de pacotes, download de dados necessários e configurações"
      ],
      "metadata": {
        "id": "CVq-nKYwYqJZ"
      }
    },
    {
      "cell_type": "code",
      "execution_count": null,
      "metadata": {
        "id": "d1GWs-A9VRwb"
      },
      "outputs": [],
      "source": [
        "import re\n",
        "\n",
        "import torch\n",
        "import matplotlib.pyplot as plt\n",
        "import nltk\n",
        "import numpy as np\n",
        "import pandas as pd\n",
        "from tqdm.notebook import tqdm\n",
        "from sklearn.feature_extraction.text import TfidfVectorizer\n",
        "from sklearn.model_selection import train_test_split\n",
        "from sklearn.metrics import confusion_matrix, ConfusionMatrixDisplay, accuracy_score\n",
        "from sklearn.neural_network import MLPClassifier\n",
        "from torch import nn"
      ]
    },
    {
      "cell_type": "code",
      "source": [
        "!pip install -q gdown"
      ],
      "metadata": {
        "id": "w0xKpXDEdO51"
      },
      "execution_count": null,
      "outputs": []
    },
    {
      "cell_type": "code",
      "source": [
        "!gdown --id 1aB3ACvT8kD7AINAkkUbYz9qherwLFd8z -O dataset.zip"
      ],
      "metadata": {
        "colab": {
          "base_uri": "https://localhost:8080/"
        },
        "id": "a0Bocx8BfNeQ",
        "outputId": "4f22c77e-637b-497c-fd38-3e88632b39bd"
      },
      "execution_count": null,
      "outputs": [
        {
          "output_type": "stream",
          "name": "stdout",
          "text": [
            "/usr/local/lib/python3.10/dist-packages/gdown/__main__.py:132: FutureWarning: Option `--id` was deprecated in version 4.3.1 and will be removed in 5.0. You don't need to pass it anymore to use a file ID.\n",
            "  warnings.warn(\n",
            "Downloading...\n",
            "From (original): https://drive.google.com/uc?id=1aB3ACvT8kD7AINAkkUbYz9qherwLFd8z\n",
            "From (redirected): https://drive.google.com/uc?id=1aB3ACvT8kD7AINAkkUbYz9qherwLFd8z&confirm=t&uuid=86edd4f8-e42e-46cb-ab7f-bd34545966a4\n",
            "To: /content/dataset.zip\n",
            "100% 50.8M/50.8M [00:01<00:00, 31.7MB/s]\n"
          ]
        }
      ]
    },
    {
      "cell_type": "code",
      "source": [
        "!unzip dataset.zip"
      ],
      "metadata": {
        "colab": {
          "base_uri": "https://localhost:8080/"
        },
        "id": "LxOWa6PslJ01",
        "outputId": "645c4fa4-47a2-4bc6-a11a-bb7252938c3f"
      },
      "execution_count": null,
      "outputs": [
        {
          "output_type": "stream",
          "name": "stdout",
          "text": [
            "Archive:  dataset.zip\n",
            "replace imdb-reviews-pt-br.csv? [y]es, [n]o, [A]ll, [N]one, [r]ename: "
          ]
        }
      ]
    },
    {
      "cell_type": "code",
      "source": [
        "nltk.download(\"stopwords\")\n",
        "nltk.download('rslp')"
      ],
      "metadata": {
        "colab": {
          "base_uri": "https://localhost:8080/"
        },
        "id": "OD-mXAJga_0y",
        "outputId": "8fa0b405-bca1-4402-cf57-bba347beaaad"
      },
      "execution_count": null,
      "outputs": [
        {
          "output_type": "stream",
          "name": "stderr",
          "text": [
            "[nltk_data] Downloading package stopwords to /root/nltk_data...\n",
            "[nltk_data]   Package stopwords is already up-to-date!\n",
            "[nltk_data] Downloading package rslp to /root/nltk_data...\n",
            "[nltk_data]   Package rslp is already up-to-date!\n"
          ]
        },
        {
          "output_type": "execute_result",
          "data": {
            "text/plain": [
              "True"
            ]
          },
          "metadata": {},
          "execution_count": 20
        }
      ]
    },
    {
      "cell_type": "code",
      "source": [
        "tqdm.pandas()\n",
        "\n",
        "pd.set_option(\"display.max_colwidth\", 0)"
      ],
      "metadata": {
        "id": "KFtW04ksZTpA"
      },
      "execution_count": null,
      "outputs": []
    },
    {
      "cell_type": "code",
      "source": [
        "device = 'cuda:0' if torch.cuda.is_available() else 'cpu'"
      ],
      "metadata": {
        "id": "kKNNx2bRAiBj"
      },
      "execution_count": null,
      "outputs": []
    },
    {
      "cell_type": "markdown",
      "source": [
        "## Reconhecimento de digitos escritos a mão (MNIST)"
      ],
      "metadata": {
        "id": "ykOIHlq1ZAIW"
      }
    },
    {
      "cell_type": "markdown",
      "source": [
        "## constantes"
      ],
      "metadata": {
        "id": "RUQSKnJKZvm_"
      }
    },
    {
      "cell_type": "code",
      "source": [
        "INPUT_SIZE = 28*28\n",
        "NUM_CLASSES = 10"
      ],
      "metadata": {
        "id": "gfIXNuirZrRu"
      },
      "execution_count": null,
      "outputs": []
    },
    {
      "cell_type": "markdown",
      "source": [
        "## carregamento e tratamento de dados"
      ],
      "metadata": {
        "id": "fH_xvccXZ2O_"
      }
    },
    {
      "cell_type": "code",
      "source": [
        "def normalize(X):\n",
        "    return ((X - 128) / 255.0).astype(np.float32)"
      ],
      "metadata": {
        "id": "kdcfMDf9aIaC"
      },
      "execution_count": null,
      "outputs": []
    },
    {
      "cell_type": "code",
      "source": [
        "data = pd.read_csv(\"sample_data/mnist_train_small.csv\").values\n",
        "data_test = pd.read_csv(\"sample_data/mnist_test.csv\").values"
      ],
      "metadata": {
        "id": "rqJm3UhYqpWB"
      },
      "execution_count": null,
      "outputs": []
    },
    {
      "cell_type": "code",
      "source": [
        "y_i, X_i = data[:, 0], data[:, 1:]\n",
        "y_i_test, X_i_test = data_test[:, 0], data_test[:, 1:]\n",
        "\n",
        "X_i, X_i_test = normalize(X_i), normalize(X_i_test)"
      ],
      "metadata": {
        "id": "aDcRjY2T8opd"
      },
      "execution_count": null,
      "outputs": []
    },
    {
      "cell_type": "code",
      "source": [
        "idx = np.random.randint(len(X_i_test))\n",
        "plt.imshow(X_i_test[idx].reshape((28, 28)), cmap='gray')\n",
        "plt.title(f\"Digit {y_i_test[idx]}\")\n",
        "plt.show()"
      ],
      "metadata": {
        "colab": {
          "base_uri": "https://localhost:8080/",
          "height": 452
        },
        "id": "mYBoUQNvaQIJ",
        "outputId": "1953c755-ea2f-499a-ce7a-60896e09186a"
      },
      "execution_count": null,
      "outputs": [
        {
          "output_type": "display_data",
          "data": {
            "text/plain": [
              "<Figure size 640x480 with 1 Axes>"
            ],
            "image/png": "[encoded data removed]"
          },
          "metadata": {}
        }
      ]
    },
    {
      "cell_type": "markdown",
      "source": [
        "## Modelo MLP (edite aqui)"
      ],
      "metadata": {
        "id": "8Js2AmzqaXcw"
      }
    },
    {
      "cell_type": "markdown",
      "source": [
        "## defina seu modelo aqui\n",
        "\n",
        "utilize `n.Sequential` para criar o modelo passando como argumento uma lista de camadas.\n",
        "\n",
        "Obs: utilize `nn.Linear(<dimensão de entrada>, <dimensão de saída>)`como camada linear\n",
        "escolha uma função de ativação (nn.ReLu, nn.Sigmoid, nn.Tanh)"
      ],
      "metadata": {
        "id": "WBqV3wFSakli"
      }
    },
    {
      "cell_type": "code",
      "source": [
        "model = nn.Sequential(\n",
        "    *[\n",
        "        nn.Linear(INPUT_SIZE, 100),\n",
        "        nn.Tanh(),\n",
        "        nn.Linear(100, NUM_CLASSES)\n",
        "    ]\n",
        ").to(device)"
      ],
      "metadata": {
        "id": "vG-bGZYH4EmO"
      },
      "execution_count": null,
      "outputs": []
    },
    {
      "cell_type": "markdown",
      "source": [
        "## treinamento do modelo\n",
        "\n",
        "Se baseie no pseudocódigo:\n",
        "\n",
        "```python\n",
        "receba modelo, X, y, n_epochs, learning_rate\n",
        "\n",
        "para cada epoca em n_epochs:\n",
        "    zere qualquer gradiente anterior\n",
        "\n",
        "    alimente o modelo com os dados\n",
        "    \n",
        "    calcula a função de custo\n",
        "    \n",
        "    propaga o custo para trás\n",
        "    \n",
        "    aplica um passo de otmização\n",
        "```"
      ],
      "metadata": {
        "id": "VY-h9h7nbG4h"
      }
    },
    {
      "cell_type": "code",
      "source": [
        "def train(model, X, y, n_epochs=10000, learning_rate=0.01):\n",
        "    \"\"\"\n",
        "        model(x):\n",
        "            chama o modelo na entrada x\n",
        "\n",
        "        nn.functional.cross_entropy(y_predito, y_verdadeiro):\n",
        "             calcula a entropia cruzada entre predição e ground true\n",
        "             returna [loss]\n",
        "\n",
        "        loss.backward():\n",
        "            propaga os gradientes (backpropagation)\n",
        "\n",
        "        torch.optim.SGD(model.parameters(), learning_rate):\n",
        "            [otimizador] gradiente descendente estocástico,\n",
        "            responsavel por atualizar os pesos daado que os gradientes\n",
        "            já foram calculados\n",
        "\n",
        "        torch.optim.AdamW(model.parameters(), learning_rate):\n",
        "            [otimizador] avançado Adam.\n",
        "            responsavel por atualizar os pesos daado que os gradientes\n",
        "            já foram calculados\n",
        "\n",
        "        [otimizador].zero_grad():\n",
        "             limpa cálculos anteriores\n",
        "\n",
        "        [otimizador].step()\n",
        "            atualiza pesos do modelo dado que os gradientes já foram calculados\n",
        "\n",
        "    \"\"\"\n",
        "    if isinstance(X, np.ndarray):\n",
        "        X, y = [torch.from_numpy(var).to(device)\n",
        "                for var in (X, y)]\n",
        "\n",
        "    optimizer = torch.optim.AdamW(model.parameters(), learning_rate)\n",
        "    for epoch in tqdm(range(n_epochs)):\n",
        "      optimizer.zero_grad()\n",
        "\n",
        "      y_pred = model(X)\n",
        "\n",
        "      loss = nn.functional.cross_entropy(y_pred, y)\n",
        "      loss.backward()\n",
        "\n",
        "      optimizer.step()\n"
      ],
      "metadata": {
        "id": "aVb3DVjF5TIK"
      },
      "execution_count": null,
      "outputs": []
    },
    {
      "cell_type": "code",
      "source": [
        "train(model, X_i, y_i)"
      ],
      "metadata": {
        "colab": {
          "base_uri": "https://localhost:8080/",
          "height": 49,
          "referenced_widgets": [
            "0ac7de21efae4f1f8d0987b7b0b5bc5a",
            "4fe60c433e9e4b15ba61163c17c3d84f",
            "6550dc1cd5eb4ada9c247075e228e867",
            "5124ed186aaa49da924b543acc9f0a8d",
            "c3120317667944648ac1613aac883568",
            "f0df88a60ccd4609b22fa1b2f6f8f0ad",
            "ba822859909346108fd048aed4791a9a",
            "379f8b0c13634632a9c35ffd58493420",
            "ed23e83c6628443a887b0e047cdf35e9",
            "5515577656d54f5da07603b617dfe0bb",
            "48634344762641b6ba892c16bd5141ea"
          ]
        },
        "id": "RRHJDdXaemgs",
        "outputId": "1ca5ee2d-b6a3-4be2-b4e4-3d35403599a9"
      },
      "execution_count": null,
      "outputs": [
        {
          "output_type": "display_data",
          "data": {
            "text/plain": [
              "  0%|          | 0/10000 [00:00<?, ?it/s]"
            ],
            "application/vnd.jupyter.widget-view+json": {
              "version_major": 2,
              "version_minor": 0,
              "model_id": "0ac7de21efae4f1f8d0987b7b0b5bc5a"
            }
          },
          "metadata": {}
        }
      ]
    },
    {
      "cell_type": "markdown",
      "source": [
        "## avaliação"
      ],
      "metadata": {
        "id": "j3WjT6zmelbu"
      }
    },
    {
      "cell_type": "code",
      "source": [
        "def predict(model, x):\n",
        "    if isinstance(x, np.ndarray):\n",
        "        x = torch.from_numpy(x.astype(np.float32)).to(device)\n",
        "\n",
        "    with torch.no_grad():\n",
        "        y_pred = model(x).argmax(axis=-1)\n",
        "\n",
        "    return y_pred.cpu().numpy()\n",
        "\n",
        "y_pred = predict(model, X_i_test)\n",
        "print(f\"A Acurácia do modelo no conjunto que ele não viu foi de \"\n",
        "      f\"{100 * accuracy_score(y_i_test, y_pred): .2f}\")"
      ],
      "metadata": {
        "colab": {
          "base_uri": "https://localhost:8080/"
        },
        "id": "UMLKL_dS9pUI",
        "outputId": "7ba9b42c-62b5-407a-d150-5cc90a1605b0"
      },
      "execution_count": null,
      "outputs": [
        {
          "output_type": "stream",
          "name": "stdout",
          "text": [
            "A Acurácia do modelo no conjunto que ele não viu foi de  96.29\n"
          ]
        }
      ]
    },
    {
      "cell_type": "code",
      "source": [
        "cm = confusion_matrix(y_i_test, y_pred)\n",
        "display = ConfusionMatrixDisplay(confusion_matrix=cm)\n",
        "display.plot()\n",
        "\n",
        "plt.show()"
      ],
      "metadata": {
        "id": "wEDgYAzFBJqy",
        "colab": {
          "base_uri": "https://localhost:8080/",
          "height": 449
        },
        "outputId": "43e5dfb2-74c9-4b20-e53f-b9a973c8ee7a"
      },
      "execution_count": null,
      "outputs": [
        {
          "output_type": "display_data",
          "data": {
            "text/plain": [
              "<Figure size 640x480 with 2 Axes>"
            ],
            "image/png": "[encoded data removed]"
          },
          "metadata": {}
        }
      ]
    },
    {
      "cell_type": "markdown",
      "source": [
        "## teste seu modelo"
      ],
      "metadata": {
        "id": "bqPbsaUbjPb3"
      }
    },
    {
      "cell_type": "code",
      "source": [
        "idx = np.random.randint(len(X_i_test))\n",
        "y_pred = predict(model, X_i_test[idx])\n",
        "plt.imshow(X_i_test[idx].reshape((28, 28)), cmap='gray')\n",
        "plt.title(f\"Digit {y_i_test[idx]}, predicted as {y_pred}\")\n",
        "plt.show()"
      ],
      "metadata": {
        "id": "UNJFZr2_Cb9C",
        "colab": {
          "base_uri": "https://localhost:8080/",
          "height": 452
        },
        "outputId": "4f043082-de22-495f-bdff-161cbb8a892c"
      },
      "execution_count": null,
      "outputs": [
        {
          "output_type": "display_data",
          "data": {
            "text/plain": [
              "<Figure size 640x480 with 1 Axes>"
            ],
            "image/png": "[encoded data removed]"
          },
          "metadata": {}
        }
      ]
    },
    {
      "cell_type": "markdown",
      "source": [
        "# Análise de sentimentos em avaliações de filmes"
      ],
      "metadata": {
        "id": "QVpJa724aZdY"
      }
    },
    {
      "cell_type": "markdown",
      "source": [
        "## Constante"
      ],
      "metadata": {
        "id": "GqbrOzWFjqFr"
      }
    },
    {
      "cell_type": "code",
      "source": [
        "INPUT_SIZE = 5000\n",
        "NUM_CLASSES = 2"
      ],
      "metadata": {
        "id": "XHIqdYMijtUN"
      },
      "execution_count": null,
      "outputs": []
    },
    {
      "cell_type": "markdown",
      "source": [
        "## tratamento de dados"
      ],
      "metadata": {
        "id": "fBM0P1oDgA8v"
      }
    },
    {
      "cell_type": "code",
      "source": [
        "df = pd.read_csv(\"imdb-reviews-pt-br.csv\")\n",
        "len(df)"
      ],
      "metadata": {
        "colab": {
          "base_uri": "https://localhost:8080/"
        },
        "id": "LHYdSL23boNL",
        "outputId": "4bb3bd7b-c79c-4481-a1c8-de582b58456a"
      },
      "execution_count": null,
      "outputs": [
        {
          "output_type": "execute_result",
          "data": {
            "text/plain": [
              "49459"
            ]
          },
          "metadata": {},
          "execution_count": 41
        }
      ]
    },
    {
      "cell_type": "code",
      "source": [
        "EXEPTIONS = {'não'}\n",
        "stopwords = set(nltk.corpus.stopwords.words(\"portuguese\")) - EXEPTIONS\n",
        "stemmer = nltk.stem.rslp.RSLPStemmer()"
      ],
      "metadata": {
        "id": "eU_Jr9ylbE9o"
      },
      "execution_count": null,
      "outputs": []
    },
    {
      "cell_type": "code",
      "source": [
        "df.head(1)"
      ],
      "metadata": {
        "colab": {
          "base_uri": "https://localhost:8080/",
          "height": 202
        },
        "id": "vHHYpWJxpf22",
        "outputId": "dd0a0acd-6b8b-4012-823e-c2b0ff4baa3c"
      },
      "execution_count": null,
      "outputs": [
        {
          "output_type": "execute_result",
          "data": {
            "text/plain": [
              "   id  \\\n",
              "0  1    \n",
              "\n",
              "                                                                                                                                                                                                                                                                                                                                                                                                                                                                                                                                                                                                                                                                                                                                                                                                                                                                                                                             text_en  \\\n",
              "0  Once again Mr. Costner has dragged out a movie for far longer than necessary. Aside from the terrific sea rescue sequences, of which there are very few I just did not care about any of the characters. Most of us have ghosts in the closet, and Costners character are realized early on, and then forgotten until much later, by which time I did not care. The character we should really care about is a very cocky, overconfident Ashton Kutcher. The problem is he comes off as kid who thinks hes better than anyone else around him and shows no signs of a cluttered closet. His only obstacle appears to be winning over Costner. Finally when we are well past the half way point of this stinker, Costner tells us all about Kutchers ghosts. We are told why Kutcher is driven to be the best with no prior inkling or foreshadowing. No magic here, it was all I could do to keep from turning it off an hour in.   \n",
              "\n",
              "                                                                                                                                                                                                                                                                                                                                                                                                                                                                                                                                                                                                                                                                                                                                                                                                                                                                                                                                                                                                              text_pt  \\\n",
              "0  Mais uma vez, o Sr. Costner arrumou um filme por muito mais tempo do que o necessário. Além das terríveis seqüências de resgate no mar, das quais há muito poucas, eu simplesmente não me importei com nenhum dos personagens. A maioria de nós tem fantasmas no armário, e o personagem Costers é realizado logo no início, e depois esquecido até muito mais tarde, quando eu não me importava. O personagem com o qual deveríamos nos importar é muito arrogante e superconfiante, Ashton Kutcher. O problema é que ele sai como um garoto que pensa que é melhor do que qualquer outra pessoa ao seu redor e não mostra sinais de um armário desordenado. Seu único obstáculo parece estar vencendo Costner. Finalmente, quando estamos bem além do meio do caminho, Costner nos conta sobre os fantasmas dos Kutchers. Somos informados de por que Kutcher é levado a ser o melhor sem pressentimentos ou presságios anteriores. Nenhuma mágica aqui, era tudo que eu podia fazer para não desligar uma hora.   \n",
              "\n",
              "  sentiment  \n",
              "0  neg       "
            ],
            "text/html": [
              "\n",
              "  <div id=\"df-e5599174-d7e3-4c3f-a240-7ce83443d9fe\" class=\"colab-df-container\">\n",
              "    <div>\n",
              "<style scoped>\n",
              "    .dataframe tbody tr th:only-of-type {\n",
              "        vertical-align: middle;\n",
              "    }\n",
              "\n",
              "    .dataframe tbody tr th {\n",
              "        vertical-align: top;\n",
              "    }\n",
              "\n",
              "    .dataframe thead th {\n",
              "        text-align: right;\n",
              "    }\n",
              "</style>\n",
              "<table border=\"1\" class=\"dataframe\">\n",
              "  <thead>\n",
              "    <tr style=\"text-align: right;\">\n",
              "      <th></th>\n",
              "      <th>id</th>\n",
              "      <th>text_en</th>\n",
              "      <th>text_pt</th>\n",
              "      <th>sentiment</th>\n",
              "    </tr>\n",
              "  </thead>\n",
              "  <tbody>\n",
              "    <tr>\n",
              "      <th>0</th>\n",
              "      <td>1</td>\n",
              "      <td>Once again Mr. Costner has dragged out a movie for far longer than necessary. Aside from the terrific sea rescue sequences, of which there are very few I just did not care about any of the characters. Most of us have ghosts in the closet, and Costners character are realized early on, and then forgotten until much later, by which time I did not care. The character we should really care about is a very cocky, overconfident Ashton Kutcher. The problem is he comes off as kid who thinks hes better than anyone else around him and shows no signs of a cluttered closet. His only obstacle appears to be winning over Costner. Finally when we are well past the half way point of this stinker, Costner tells us all about Kutchers ghosts. We are told why Kutcher is driven to be the best with no prior inkling or foreshadowing. No magic here, it was all I could do to keep from turning it off an hour in.</td>\n",
              "      <td>Mais uma vez, o Sr. Costner arrumou um filme por muito mais tempo do que o necessário. Além das terríveis seqüências de resgate no mar, das quais há muito poucas, eu simplesmente não me importei com nenhum dos personagens. A maioria de nós tem fantasmas no armário, e o personagem Costers é realizado logo no início, e depois esquecido até muito mais tarde, quando eu não me importava. O personagem com o qual deveríamos nos importar é muito arrogante e superconfiante, Ashton Kutcher. O problema é que ele sai como um garoto que pensa que é melhor do que qualquer outra pessoa ao seu redor e não mostra sinais de um armário desordenado. Seu único obstáculo parece estar vencendo Costner. Finalmente, quando estamos bem além do meio do caminho, Costner nos conta sobre os fantasmas dos Kutchers. Somos informados de por que Kutcher é levado a ser o melhor sem pressentimentos ou presságios anteriores. Nenhuma mágica aqui, era tudo que eu podia fazer para não desligar uma hora.</td>\n",
              "      <td>neg</td>\n",
              "    </tr>\n",
              "  </tbody>\n",
              "</table>\n",
              "</div>\n",
              "    <div class=\"colab-df-buttons\">\n",
              "\n",
              "  <div class=\"colab-df-container\">\n",
              "    <button class=\"colab-df-convert\" onclick=\"convertToInteractive('df-e5599174-d7e3-4c3f-a240-7ce83443d9fe')\"\n",
              "            title=\"Convert this dataframe to an interactive table.\"\n",
              "            style=\"display:none;\">\n",
              "\n",
              "  <svg xmlns=\"http://www.w3.org/2000/svg\" height=\"24px\" viewBox=\"0 -960 960 960\">\n",
              "    <path d=\"M120-120v-720h720v720H120Zm60-500h600v-160H180v160Zm220 220h160v-160H400v160Zm0 220h160v-160H400v160ZM180-400h160v-160H180v160Zm440 0h160v-160H620v160ZM180-180h160v-160H180v160Zm440 0h160v-160H620v160Z\"/>\n",
              "  </svg>\n",
              "    </button>\n",
              "\n",
              "  <style>\n",
              "    .colab-df-container {\n",
              "      display:flex;\n",
              "      gap: 12px;\n",
              "    }\n",
              "\n",
              "    .colab-df-convert {\n",
              "      background-color: #E8F0FE;\n",
              "      border: none;\n",
              "      border-radius: 50%;\n",
              "      cursor: pointer;\n",
              "      display: none;\n",
              "      fill: #1967D2;\n",
              "      height: 32px;\n",
              "      padding: 0 0 0 0;\n",
              "      width: 32px;\n",
              "    }\n",
              "\n",
              "    .colab-df-convert:hover {\n",
              "      background-color: #E2EBFA;\n",
              "      box-shadow: 0px 1px 2px rgba(60, 64, 67, 0.3), 0px 1px 3px 1px rgba(60, 64, 67, 0.15);\n",
              "      fill: #174EA6;\n",
              "    }\n",
              "\n",
              "    .colab-df-buttons div {\n",
              "      margin-bottom: 4px;\n",
              "    }\n",
              "\n",
              "    [theme=dark] .colab-df-convert {\n",
              "      background-color: #3B4455;\n",
              "      fill: #D2E3FC;\n",
              "    }\n",
              "\n",
              "    [theme=dark] .colab-df-convert:hover {\n",
              "      background-color: #434B5C;\n",
              "      box-shadow: 0px 1px 3px 1px rgba(0, 0, 0, 0.15);\n",
              "      filter: drop-shadow(0px 1px 2px rgba(0, 0, 0, 0.3));\n",
              "      fill: #FFFFFF;\n",
              "    }\n",
              "  </style>\n",
              "\n",
              "    <script>\n",
              "      const buttonEl =\n",
              "        document.querySelector('#df-e5599174-d7e3-4c3f-a240-7ce83443d9fe button.colab-df-convert');\n",
              "      buttonEl.style.display =\n",
              "        google.colab.kernel.accessAllowed ? 'block' : 'none';\n",
              "\n",
              "      async function convertToInteractive(key) {\n",
              "        const element = document.querySelector('#df-e5599174-d7e3-4c3f-a240-7ce83443d9fe');\n",
              "        const dataTable =\n",
              "          await google.colab.kernel.invokeFunction('convertToInteractive',\n",
              "                                                    [key], {});\n",
              "        if (!dataTable) return;\n",
              "\n",
              "        const docLinkHtml = 'Like what you see? Visit the ' +\n",
              "          '<a target=\"_blank\" href=https://colab.research.google.com/notebooks/data_table.ipynb>data table notebook</a>'\n",
              "          + ' to learn more about interactive tables.';\n",
              "        element.innerHTML = '';\n",
              "        dataTable['output_type'] = 'display_data';\n",
              "        await google.colab.output.renderOutput(dataTable, element);\n",
              "        const docLink = document.createElement('div');\n",
              "        docLink.innerHTML = docLinkHtml;\n",
              "        element.appendChild(docLink);\n",
              "      }\n",
              "    </script>\n",
              "  </div>\n",
              "\n",
              "\n",
              "    </div>\n",
              "  </div>\n"
            ],
            "application/vnd.google.colaboratory.intrinsic+json": {
              "type": "dataframe",
              "variable_name": "df",
              "summary": "{\n  \"name\": \"df\",\n  \"rows\": 49459,\n  \"fields\": [\n    {\n      \"column\": \"id\",\n      \"properties\": {\n        \"dtype\": \"number\",\n        \"std\": 14277,\n        \"min\": 1,\n        \"max\": 49460,\n        \"num_unique_values\": 49459,\n        \"samples\": [\n          12534,\n          35447,\n          20281\n        ],\n        \"semantic_type\": \"\",\n        \"description\": \"\"\n      }\n    },\n    {\n      \"column\": \"text_en\",\n      \"properties\": {\n        \"dtype\": \"string\",\n        \"num_unique_values\": 49043,\n        \"samples\": [\n          \"One of the commenters is wrong. This is not the only Pat Patterson film and he didnt die two years after this was made. He shot a film called the \\\"Electric Chair\\\" in Pineville, NC. He shot this a few years after Doctor Gore. Patterson died in the late 70s. I know this because he used my house and he left a cat there!! It sucked also. This was a big deal when the movie came out. No independent horror films were being made in NC. This movie didnt help matters. Patterson used to do gore effects for H. G. Lewis. He was also good at magic. His gore scenes in Body shop were actually well done. The film was shot in a building that also housed a 7/11. You can actually see the tops of the walls in some scenes. The budget was less that $20,000 and the script looked like a child wrote it. Only Patterson could understand it. Still...its entertainment and its a classic.\",\n          \"I just re-watched 08th MS Gundam for the 2nd time. It is so much better than Gundam Wing. I cant wait to get the DVD and see what was edited out of the series. This is great to see the Gundams actually move about clumsily through the land. Somebody really thought over writing this move script.See this today,.\",\n          \"The always delightful Kevin Spacey makes us once again question certain truths in our lives. After driving us into believing he is a mumbling small time crook only to expose the true power of cinematic deception in the classic The Usual Suspect; this time around he leads us into believing he is Prot, a likable alien who assumes a human form whilst strolling around the Earth.Prot is a peculiar stranger who has seemingly appeared out of nowhere, only to be hospitalized in the Manhattan Psychiatric Institution. Dr. Mark Powell Jeff Bridges soon takes extreme interest in him, and even finds himself pondering if Prot is actually a supreme being from planet K-PAX, or perhaps he is only a forgotten human being with severe psychiatric issues. While the ending can be seen and discussed in many ways, it remains a complex, enlightening journey which leaves a gr eat deal of intriguing/philosophical questions behind it.\"\n        ],\n        \"semantic_type\": \"\",\n        \"description\": \"\"\n      }\n    },\n    {\n      \"column\": \"text_pt\",\n      \"properties\": {\n        \"dtype\": \"string\",\n        \"num_unique_values\": 49045,\n        \"samples\": [\n          \"Alguns spoilers A Soap tem momentos maravilhosos para recomend\\u00e1-lo. Quando Charlotte e Veronica se aproximam da intimidade, \\u00e9 uma cena linda, discreta e verdadeiramente er\\u00f3tica. Eu tamb\\u00e9m adorava a partitura e a cinematografia suave e sem som. N\\u00e3o estou claro se a curiosa estrutura de parada e in\\u00edcio do filme vem de ser digerida originalmente em forma serializada, o locutor descrevendo a a\\u00e7\\u00e3o em se\\u00e7\\u00f5es \\u00e9 bem chato. Meu maior problema com esse filme \\u00e9 a representa\\u00e7\\u00e3o bastante absurda de uma mulher trans e de sua vida. Claro, ela tem que ser mostrada como uma trabalhadora sexual o que mais, desmiolada, impratic\\u00e1vel, absurdamente cheia de babados, completamente sem esperan\\u00e7a quando se trata de se vestir e incapaz de fazer quaisquer liga\\u00e7\\u00f5es interpessoais no mundo. Al\\u00e9m disso, ela sempre mostrava dois dias de crescimento de barba por algum motivo bizarro, como se quisesse enfatizar o quanto a vida dela \\u00e9 de mau gosto. E ela est\\u00e1 esperando para fazer uma cirurgia de redesigna\\u00e7\\u00e3o de g\\u00eanero quando aparentemente n\\u00e3o fez mais nada para encaminhar sua transi\\u00e7\\u00e3o. Na verdade, o personagem se assemelha a uma drag queen, n\\u00e3o a algu\\u00e9m que est\\u00e1 em transi\\u00e7\\u00e3o. Essas s\\u00e3o fantasias t\\u00edpicas de pessoas de fora que realmente n\\u00e3o est\\u00e3o ligadas a transpeople. Os filmes de fetichiza\\u00e7\\u00e3o da cirurgia de GRS s\\u00e3o uma forma de objetivar as pessoas que est\\u00e3o passando pela transi\\u00e7\\u00e3o. N\\u00e3o impressionado com este aspecto do filme no m\\u00ednimo. No m\\u00ednimo, por que n\\u00e3o ter o personagem interpretado por algu\\u00e9m que realmente \\u00e9 transg\\u00eanero ... Eu pensei que o ator que interpreta Veronica estava bem, mas n\\u00e3o melhor do que isso. Muito melhor era a mulher retratando Charlotte, um personagem muito complexo cheio de energia, auto-avers\\u00e3o, desejo e contradi\\u00e7\\u00f5es. Se ela estava t\\u00e3o fascinada por algu\\u00e9m com energia feminina, uma Charlotte poderia ir a um bar feminino em dois segundos e encontr\\u00e1-lo. Sim, ela foi atra\\u00edda por Veronica mas mais como uma id\\u00e9ia abstrata de algu\\u00e9m com caracter\\u00edsticas masculinas / femininas um toque gentil, mas com um bom soco, n\\u00e3o como uma pessoa \\u00fanica. Sim, o que A Soap diz sobre o amor \\u00e9 muitas vezes am\\u00e1vel e comovente, mas isso n\\u00e3o significa que uma minoria j\\u00e1 estereotipada tenha de ser estereotipada um pouco mais no processo. Este filme tamb\\u00e9m prova que os dinamarqueses s\\u00e3o maus dan\\u00e7arinos. Para uma premissa t\\u00e3o promissora melhor executada em um filme como \\\"Different For Girls\\\", o filme final \\u00e9 uma decep\\u00e7\\u00e3o.\",\n          \"Este filme reuniu alguns dos antigos tripulantes da Spinal para outro filme de mockumentary, desta vez girando em torno do mundo do Dog Show, como seus donos se preparam e treinam para o show antes de passar para o show em si. Conhecemos v\\u00e1rias equipes como eles esperam para ganhar o pr\\u00eamio principal - The Flecks, Cookie, que parece ter dormido com todos os homens de sempre, e Gerry, que tenta lidar com as antigas escapadas de sua esposa e com o fato de que ele literalmente tem dois p\\u00e9s esquerdos. Harlan, cujo cachorro fala com ele e gosta de ventriloquismo. Os cisnes que tomam muito caf\\u00e9 e gritam um com o outro. Donalan e Vanderhoof, o casal gay, e Cabot e Cummings, que venceram os dois \\u00faltimos anos. Fred Willard comenta sobre o show e \\u00e9 muito engra\\u00e7ado como sempre. Cenas engra\\u00e7adas incluem o Look at me! cena, e qualquer com Levy. Infelizmente algumas das melhores cenas foram apagadas ou filmadas depois - Willard entrevistando Leslie Cabot, e o ep\\u00edlogo alternativo com Gerry \\u00e9 uma das coisas mais engra\\u00e7adas que eu j\\u00e1 vi. Se estas tivessem sido inclu\\u00eddas, daria ao filme uma marca extra. Mas ... 7 de 10\",\n          \"Eu n\\u00e3o pensava assim, mas meu amigo disse a primeira coisa que ele pensou quando ouviu que o t\\u00edtulo \\\"Midnight Cowboy\\\" era um porn\\u00f4 gay. Naquele momento, tudo que eu sabia era a refer\\u00eancia feita naquele epis\\u00f3dio de \\\"Seinfeld\\\" com Jerry tentando levar Kramer para a Fl\\u00f3rida naquele \\u00f4nibus e Kramers todo doente e com uma hemorragia nasal. O filme foi \\u00f3timo, e surpreendentemente otimista. e nem todos pessimistas pessimistas pretensiosos como alguns filmes que eu n\\u00e3o consigo lembrar porque s\\u00e3o todos uma porcaria.O enredo basicamente consistia de um jovem cowboy ing\\u00eanuo Joe Buck indo para Nova York tentando ser um prostituto prostituta, basicamente, pensando que ser\\u00e1 f\\u00e1cil pickings, s\\u00f3 para bater duro na parede de tijolos quando uma mulher acaba apressando-o, acusando-o de seu encontro sexual. Ent\\u00e3o ele conhece Enrico Salvatore Rizzo, chamado \\\"Ratso\\\" por todos e os gays bonitos que fazem piada dele o tempo todo. Voc\\u00ea pensa nele como um canalha, mas um am\\u00e1vel como Han Solo ou Lando Calrissian e surpreendentemente ele e Joe tornam-se amigos, e o filme \\u00e9 t\\u00e3o doce e emocionante ao v\\u00ea-los mais amig\\u00e1veis \\u200b\\u200be tal e tal. Rizzo se revela realmente um homem triste e lastim\\u00e1vel, muito doente, muito deprimido e constrangido, odeia ser chamado de \\\"Ratso\\\" e quer ir para a Fl\\u00f3rida, onde acha que a vida ser\\u00e1 muito melhor e todos os seus problemas resolvidos, e inferno aprender a ser um cozinheiro e ser famoso por l\\u00e1. \\u00c9 reconfortante ver Joe fazer tudo o que ele faz para lev\\u00e1-los para a Fl\\u00f3rida, junto com muitos momentos hilariantes como Ratso tentando roubar comida naquela festa hippie, e ser pego pelo mulher que diz \\\"Nossa, bem, voc\\u00ea sabe, \\u00e9 gr\\u00e1tis. Voc\\u00ea n\\u00e3o tem que roub\\u00e1-lo.\\\" e ele diz \\\"Bem, se estiver livre, ent\\u00e3o eu n\\u00e3o vou roubar\\\", e aquele momento cl\\u00e1ssico completamente improvisado e n\\u00e3o programado, onde Hoffman quase \\u00e9 atingido por aquele T\\u00e1xi, e grita \\\"Ei, eu estou andando aqui! Estou andando aqui!\\\" \\u00e9 t\\u00e3o cr\\u00edvel, que voc\\u00ea nunca acreditaria que Joe Buck cresceria para ser o distinto e respeitado ator Jon Voight, e Ratso Rizzo cresceria para ser o lend\\u00e1rio e amado Dustin Hoffman. N\\u00e3o \\u00e9 a primeira vez que eles trabalham juntos em pap\\u00e9is principais, mas a qu\\u00edmica \\u00e9 t\\u00e3o espessa e intensa. Ent\\u00e3o, a parte triste que eu acredito \\u00e9 um exagero de cham\\u00e1-la de \\\"deprimente\\\". Ratso Rizzo est\\u00e1 desmoronando durante todo o filme, mal consegue andar, mal come, tosse muito, est\\u00e1 doente e atinge um ponto de cabe\\u00e7a no \\u00f4nibus a caminho da Fl\\u00f3rida. Ele est\\u00e1 doendo muito, e a apenas quil\\u00f4metros de Miami, ele finalmente morre no \\u00f4nibus. O motorista do \\u00f4nibus garante a todos que nada est\\u00e1 errado e continua. Triste, mas n\\u00e3o do tipo que faz voc\\u00ea ir para casa e chorar e lamentar miseravelmente como se tivesse acabado de perder seu cachorro de 13 anos. Tudo em todos, \\u00f3timo filme. E a trilha sonora consiste basicamente de \\\"Everybodys Talking\\\", tocada durante todo o filme nos momentos apropriados. Um movimento estranho, mas \\u00f3timo, j\\u00e1 que a m\\u00fasica \\u00e9 boa e se encaixa perfeitamente no tom do filme. V\\u00e1 ver, \\u00e9 \\u00f3timo, vai comprar\"\n        ],\n        \"semantic_type\": \"\",\n        \"description\": \"\"\n      }\n    },\n    {\n      \"column\": \"sentiment\",\n      \"properties\": {\n        \"dtype\": \"category\",\n        \"num_unique_values\": 2,\n        \"samples\": [\n          \"pos\",\n          \"neg\"\n        ],\n        \"semantic_type\": \"\",\n        \"description\": \"\"\n      }\n    }\n  ]\n}"
            }
          },
          "metadata": {},
          "execution_count": 43
        }
      ]
    },
    {
      "cell_type": "code",
      "source": [
        "REPLACEMENTS = [\n",
        "    (r'@\\w+', ''),\n",
        "    (r'\\W', ' '),\n",
        "    (r'\\s+', ' '),\n",
        "]\n",
        "\n",
        "\n",
        "def preprocess(text, remove_stopwords=True):\n",
        "    text = text.lower()\n",
        "\n",
        "    for pattern, repl in REPLACEMENTS:\n",
        "        text = re.sub(pattern, repl, text)\n",
        "\n",
        "    return \" \".join([stemmer.stem(word) for word in text.split()\n",
        "                     if not remove_stopwords or word not in stopwords])\n"
      ],
      "metadata": {
        "id": "lWTUKLnAmdVT"
      },
      "execution_count": null,
      "outputs": []
    },
    {
      "cell_type": "code",
      "source": [
        "texts = [preprocess(text) for text in tqdm(df.text_pt)]"
      ],
      "metadata": {
        "colab": {
          "base_uri": "https://localhost:8080/",
          "height": 49,
          "referenced_widgets": [
            "980926819e2b4fc4b32e2a967ca69a37",
            "aeec820790214459be87854cc4e13284",
            "8f00b20638ea4fb581f714ee81971dd6",
            "27ccd7f5fbb043de8ca60e0c4b418fe9",
            "ca2ccfcf736545a5b5b961e8fa2eaf5a",
            "3719c1aab5d54b29b6a019cfc03ebfbc",
            "c080cf1fea344c0fbd4aea6a5c2a398b",
            "e6a017a212d5446ea91e834dfef31ec1",
            "89ba0a7f84214d629cd26de4f9607467",
            "86cdad314ee84b09be187f5a4c57e763",
            "9fb2ed6bb9b549fa815ce58209c703de"
          ]
        },
        "id": "ofu7ExOJlzqK",
        "outputId": "a7ac94eb-ad7d-4311-d39b-c432e7e758a3"
      },
      "execution_count": null,
      "outputs": [
        {
          "output_type": "display_data",
          "data": {
            "text/plain": [
              "  0%|          | 0/49459 [00:00<?, ?it/s]"
            ],
            "application/vnd.jupyter.widget-view+json": {
              "version_major": 2,
              "version_minor": 0,
              "model_id": "980926819e2b4fc4b32e2a967ca69a37"
            }
          },
          "metadata": {}
        }
      ]
    },
    {
      "cell_type": "code",
      "source": [
        "vectorizer = TfidfVectorizer(max_features=5000)\n",
        "X = vectorizer.fit_transform(texts)\n",
        "Y = (df.sentiment == 'pos').astype(int).values"
      ],
      "metadata": {
        "id": "qNhgYhmYlngK"
      },
      "execution_count": null,
      "outputs": []
    },
    {
      "cell_type": "code",
      "source": [
        "X_train, X_test, Y_train, Y_test = train_test_split(X, Y, test_size=.3)"
      ],
      "metadata": {
        "id": "78H1y_cDp1k_"
      },
      "execution_count": null,
      "outputs": []
    },
    {
      "cell_type": "markdown",
      "source": [
        "## defina seu modelo aqui e chame a mesma função de treinamento"
      ],
      "metadata": {
        "id": "qqEPhIHXe8P8"
      }
    },
    {
      "cell_type": "code",
      "source": [
        "model2 = nn.Sequential(\n",
        "    *[\n",
        "        nn.Linear(INPUT_SIZE, 100),\n",
        "        nn.Sigmoid(),\n",
        "        nn.Linear(100, NUM_CLASSES)\n",
        "    ]\n",
        ").to(device)\n",
        "train(model2, X_train.todense().astype(dtype=np.float32), Y_train, n_epochs=750)"
      ],
      "metadata": {
        "colab": {
          "base_uri": "https://localhost:8080/",
          "height": 49,
          "referenced_widgets": [
            "882033718cb24756b19a8a435e89695d",
            "d08acc2027744f27a5adf13ba1a3f917",
            "323d56fec9e9498c9dae0a268618b25d",
            "5de429412f1a407381e4e3ec5a55ed60",
            "3f4962edd1d9485fbffd968384a25e55",
            "5a58854eac414d869321ff74ed13bebb",
            "8cbb67347d8f48f6864b7dffe4259384",
            "3453bf15a89e47a882ff4bab54e12d68",
            "bdc7d3f079a7405c94ec7434c43d95cc",
            "8ef19187411a490798642a119ce71534",
            "a0e6cbd3bc8348e3a26398fe3fab2204"
          ]
        },
        "id": "myQJb9ZpK7U4",
        "outputId": "732ce856-45c8-4977-b0d2-3229c4181fa7"
      },
      "execution_count": null,
      "outputs": [
        {
          "output_type": "display_data",
          "data": {
            "text/plain": [
              "  0%|          | 0/750 [00:00<?, ?it/s]"
            ],
            "application/vnd.jupyter.widget-view+json": {
              "version_major": 2,
              "version_minor": 0,
              "model_id": "882033718cb24756b19a8a435e89695d"
            }
          },
          "metadata": {}
        }
      ]
    },
    {
      "cell_type": "markdown",
      "source": [
        "## avaliação"
      ],
      "metadata": {
        "id": "i7iI7Jf1fG3D"
      }
    },
    {
      "cell_type": "code",
      "source": [
        "y_pred = predict(model2, X_test.todense().astype(np.float32))\n",
        "\n",
        "print(f\"A Acurácia do modelo no conjunto que ele não viu foi de \"\n",
        "      f\"{100 * accuracy_score(Y_test, y_pred): .2f}\")"
      ],
      "metadata": {
        "colab": {
          "base_uri": "https://localhost:8080/"
        },
        "id": "1fDkwPW3SsfT",
        "outputId": "d7d443ec-d21e-412a-e377-83ef92446d0b"
      },
      "execution_count": null,
      "outputs": [
        {
          "output_type": "stream",
          "name": "stdout",
          "text": [
            "A Acurácia do modelo no conjunto que ele não viu foi de  84.71\n"
          ]
        }
      ]
    },
    {
      "cell_type": "markdown",
      "source": [
        "### utilidade de interface (ignore)"
      ],
      "metadata": {
        "id": "i4Y457EjfJvn"
      }
    },
    {
      "cell_type": "code",
      "source": [
        "from IPython.display import display\n",
        "from ipywidgets import FloatProgress\n",
        "\n",
        "def show_bar(percentage):\n",
        "    display(\n",
        "        FloatProgress(\n",
        "            value=percentage,\n",
        "            min=0,\n",
        "            max=1,\n",
        "            description='Nível de positividade detectado:',\n",
        "            bar_style='info',\n",
        "            style={\n",
        "                'description_width': 'initial',\n",
        "                'bar_color': '#ff0000' if percentage < .3\n",
        "                              else ('#ffff00' if percentage < .6\n",
        "                                       else '#00ff00')},\n",
        "            orientation='horizontal'\n",
        "        )\n",
        "    )"
      ],
      "metadata": {
        "id": "I9g-q8VRU_Z8"
      },
      "execution_count": null,
      "outputs": []
    },
    {
      "cell_type": "code",
      "source": [
        "def analyse_sentence(sentence):\n",
        "    probs = nn.functional.softmax(\n",
        "        model2(\n",
        "            torch.from_numpy(\n",
        "                vectorizer.transform(\n",
        "                    [preprocess(sentence)]\n",
        "                ).todense().astype(np.float32)\n",
        "            ).to(device)\n",
        "        ),\n",
        "        dim=-1\n",
        "    )[0]\n",
        "\n",
        "    print(\"Essa foi uma critica ruim! 😥\" if probs.argmax() == 0 else\n",
        "          \"Essa critica foi boa! 😀\")\n",
        "    show_bar(probs[1])\n"
      ],
      "metadata": {
        "id": "kMIjM0w2WZ2L"
      },
      "execution_count": null,
      "outputs": []
    },
    {
      "cell_type": "markdown",
      "source": [
        "## teste seu modelo"
      ],
      "metadata": {
        "id": "X79VUP3GfS3Y"
      }
    },
    {
      "cell_type": "code",
      "source": [
        "analyse_sentence(\"ótimo filme\")"
      ],
      "metadata": {
        "colab": {
          "base_uri": "https://localhost:8080/",
          "height": 66,
          "referenced_widgets": [
            "228ee0f49fdd47dfa196f16af00a77e4",
            "fefcb7451b8543f4bbc5900d15858baf",
            "1d940bbab29241969a6f152c9f8f3837"
          ]
        },
        "id": "CUkz3kAEWrcA",
        "outputId": "b11a63b9-b109-42f9-e99f-b4d221aa3e02"
      },
      "execution_count": null,
      "outputs": [
        {
          "output_type": "stream",
          "name": "stdout",
          "text": [
            "Essa critica foi boa! 😀\n"
          ]
        },
        {
          "output_type": "display_data",
          "data": {
            "text/plain": [
              "FloatProgress(value=1.0, bar_style='info', description='Nível de positividade detectado:', max=1.0, style=Prog…"
            ],
            "application/vnd.jupyter.widget-view+json": {
              "version_major": 2,
              "version_minor": 0,
              "model_id": "228ee0f49fdd47dfa196f16af00a77e4"
            }
          },
          "metadata": {}
        }
      ]
    },
    {
      "cell_type": "code",
      "source": [
        "analyse_sentence(\"odiei, pior filme de todos\")"
      ],
      "metadata": {
        "colab": {
          "base_uri": "https://localhost:8080/",
          "height": 66,
          "referenced_widgets": [
            "9c06673553a04723881a34978091eb94",
            "d9f83cf997f441898c10f87b0757d1c0",
            "b5453117322d4fccb44ea28f5cb030b0"
          ]
        },
        "id": "Febj8TKFgctO",
        "outputId": "7a2c0764-2ec3-4545-ba36-8ed499bdc26d"
      },
      "execution_count": null,
      "outputs": [
        {
          "output_type": "stream",
          "name": "stdout",
          "text": [
            "Essa foi uma critica ruim! 😥\n"
          ]
        },
        {
          "output_type": "display_data",
          "data": {
            "text/plain": [
              "FloatProgress(value=4.429508771863766e-05, bar_style='info', description='Nível de positividade detectado:', m…"
            ],
            "application/vnd.jupyter.widget-view+json": {
              "version_major": 2,
              "version_minor": 0,
              "model_id": "9c06673553a04723881a34978091eb94"
            }
          },
          "metadata": {}
        }
      ]
    },
    {
      "cell_type": "code",
      "source": [
        "analyse_sentence(\"filme sem graça\")"
      ],
      "metadata": {
        "colab": {
          "base_uri": "https://localhost:8080/",
          "height": 66,
          "referenced_widgets": [
            "23aeb555625545f191a20e74058b89ef",
            "45c57e29fdec425faf21253a64585cb4",
            "34c4aaa31b094233a6255908d9df2f82"
          ]
        },
        "id": "EqHCKrkkghqt",
        "outputId": "91ae29ce-fef2-46b0-d1a4-29819ecb3fd9"
      },
      "execution_count": null,
      "outputs": [
        {
          "output_type": "stream",
          "name": "stdout",
          "text": [
            "Essa foi uma critica ruim! 😥\n"
          ]
        },
        {
          "output_type": "display_data",
          "data": {
            "text/plain": [
              "FloatProgress(value=0.001364203286357224, bar_style='info', description='Nível de positividade detectado:', ma…"
            ],
            "application/vnd.jupyter.widget-view+json": {
              "version_major": 2,
              "version_minor": 0,
              "model_id": "23aeb555625545f191a20e74058b89ef"
            }
          },
          "metadata": {}
        }
      ]
    }
  ]
}